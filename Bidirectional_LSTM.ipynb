{
 "cells": [
  {
   "cell_type": "code",
   "execution_count": 38,
   "id": "d8caa3b4-42c0-47b0-a590-bea02da33e2b",
   "metadata": {},
   "outputs": [],
   "source": [
    "import pandas as pd\n",
    "from tensorflow.keras.layers import Dense , Bidirectional , LSTM , Embedding\n",
    "from tensorflow.keras.models import Sequential\n",
    "from tensorflow.keras.preprocessing.text import Tokenizer\n",
    "from tensorflow.keras.preprocessing.sequence import pad_sequences\n",
    "import re #regular expression\n",
    "import nltk\n",
    "from nltk.corpus import stopwords\n",
    "from nltk.stem import WordNetLemmatizer\n",
    "from sklearn.model_selection import train_test_split\n",
    "from tensorflow.keras.callbacks import EarlyStopping"
   ]
  },
  {
   "cell_type": "code",
   "execution_count": 2,
   "id": "9f9b7670-709d-4a74-8504-5c16328946a0",
   "metadata": {},
   "outputs": [
    {
     "data": {
      "text/html": [
       "<div>\n",
       "<style scoped>\n",
       "    .dataframe tbody tr th:only-of-type {\n",
       "        vertical-align: middle;\n",
       "    }\n",
       "\n",
       "    .dataframe tbody tr th {\n",
       "        vertical-align: top;\n",
       "    }\n",
       "\n",
       "    .dataframe thead th {\n",
       "        text-align: right;\n",
       "    }\n",
       "</style>\n",
       "<table border=\"1\" class=\"dataframe\">\n",
       "  <thead>\n",
       "    <tr style=\"text-align: right;\">\n",
       "      <th></th>\n",
       "      <th>unit_id</th>\n",
       "      <th>article_title</th>\n",
       "      <th>article_content</th>\n",
       "      <th>source</th>\n",
       "      <th>date</th>\n",
       "      <th>location</th>\n",
       "      <th>labels</th>\n",
       "    </tr>\n",
       "  </thead>\n",
       "  <tbody>\n",
       "    <tr>\n",
       "      <th>0</th>\n",
       "      <td>1914947530</td>\n",
       "      <td>Syria attack symptoms consistent with nerve ag...</td>\n",
       "      <td>Wed 05 Apr 2017 Syria attack symptoms consiste...</td>\n",
       "      <td>nna</td>\n",
       "      <td>4/5/2017</td>\n",
       "      <td>idlib</td>\n",
       "      <td>0</td>\n",
       "    </tr>\n",
       "    <tr>\n",
       "      <th>1</th>\n",
       "      <td>1914947532</td>\n",
       "      <td>Homs governor says U.S. attack caused deaths b...</td>\n",
       "      <td>Fri 07 Apr 2017 at 0914 Homs governor says U.S...</td>\n",
       "      <td>nna</td>\n",
       "      <td>4/7/2017</td>\n",
       "      <td>homs</td>\n",
       "      <td>0</td>\n",
       "    </tr>\n",
       "    <tr>\n",
       "      <th>2</th>\n",
       "      <td>1914947533</td>\n",
       "      <td>Death toll from Aleppo bomb attack at least 112</td>\n",
       "      <td>Sun 16 Apr 2017 Death toll from Aleppo bomb at...</td>\n",
       "      <td>nna</td>\n",
       "      <td>4/16/2017</td>\n",
       "      <td>aleppo</td>\n",
       "      <td>0</td>\n",
       "    </tr>\n",
       "    <tr>\n",
       "      <th>3</th>\n",
       "      <td>1914947534</td>\n",
       "      <td>Aleppo bomb blast kills six Syrian state TV</td>\n",
       "      <td>Wed 19 Apr 2017 Aleppo bomb blast kills six Sy...</td>\n",
       "      <td>nna</td>\n",
       "      <td>4/19/2017</td>\n",
       "      <td>aleppo</td>\n",
       "      <td>0</td>\n",
       "    </tr>\n",
       "    <tr>\n",
       "      <th>4</th>\n",
       "      <td>1914947535</td>\n",
       "      <td>29 Syria Rebels Dead in Fighting for Key Alepp...</td>\n",
       "      <td>Sun 10 Jul 2016 29 Syria Rebels Dead in Fighti...</td>\n",
       "      <td>nna</td>\n",
       "      <td>7/10/2016</td>\n",
       "      <td>aleppo</td>\n",
       "      <td>0</td>\n",
       "    </tr>\n",
       "  </tbody>\n",
       "</table>\n",
       "</div>"
      ],
      "text/plain": [
       "      unit_id                                      article_title  \\\n",
       "0  1914947530  Syria attack symptoms consistent with nerve ag...   \n",
       "1  1914947532  Homs governor says U.S. attack caused deaths b...   \n",
       "2  1914947533    Death toll from Aleppo bomb attack at least 112   \n",
       "3  1914947534        Aleppo bomb blast kills six Syrian state TV   \n",
       "4  1914947535  29 Syria Rebels Dead in Fighting for Key Alepp...   \n",
       "\n",
       "                                     article_content source       date  \\\n",
       "0  Wed 05 Apr 2017 Syria attack symptoms consiste...    nna   4/5/2017   \n",
       "1  Fri 07 Apr 2017 at 0914 Homs governor says U.S...    nna   4/7/2017   \n",
       "2  Sun 16 Apr 2017 Death toll from Aleppo bomb at...    nna  4/16/2017   \n",
       "3  Wed 19 Apr 2017 Aleppo bomb blast kills six Sy...    nna  4/19/2017   \n",
       "4  Sun 10 Jul 2016 29 Syria Rebels Dead in Fighti...    nna  7/10/2016   \n",
       "\n",
       "  location  labels  \n",
       "0    idlib       0  \n",
       "1     homs       0  \n",
       "2   aleppo       0  \n",
       "3   aleppo       0  \n",
       "4   aleppo       0  "
      ]
     },
     "execution_count": 2,
     "metadata": {},
     "output_type": "execute_result"
    }
   ],
   "source": [
    "df =pd.read_csv('FA-KES-Dataset.csv' , encoding=\"latin1\")\n",
    "df.head()"
   ]
  },
  {
   "cell_type": "code",
   "execution_count": 3,
   "id": "5283a576-1cdd-4a93-891c-2b7509665da6",
   "metadata": {},
   "outputs": [],
   "source": [
    "X=df['article_title']\n",
    "y=df['labels']"
   ]
  },
  {
   "cell_type": "code",
   "execution_count": 4,
   "id": "1541f903-0a62-45a8-aa23-d2b8b6929660",
   "metadata": {},
   "outputs": [
    {
     "name": "stderr",
     "output_type": "stream",
     "text": [
      "[nltk_data] Downloading package stopwords to\n",
      "[nltk_data]     C:\\Users\\Admin\\AppData\\Roaming\\nltk_data...\n",
      "[nltk_data]   Package stopwords is already up-to-date!\n",
      "[nltk_data] Downloading package wordnet to\n",
      "[nltk_data]     C:\\Users\\Admin\\AppData\\Roaming\\nltk_data...\n",
      "[nltk_data]   Package wordnet is already up-to-date!\n"
     ]
    },
    {
     "data": {
      "text/plain": [
       "True"
      ]
     },
     "execution_count": 4,
     "metadata": {},
     "output_type": "execute_result"
    }
   ],
   "source": [
    "nltk.download('stopwords')\n",
    "nltk.download('wordnet') # for Lemmenitization purpose"
   ]
  },
  {
   "cell_type": "code",
   "execution_count": 6,
   "id": "1d056c2b-45aa-4131-b13b-80d993c0c23a",
   "metadata": {},
   "outputs": [],
   "source": [
    "from nltk.corpus import stopwords\n",
    "from nltk.stem import WordNetLemmatizer\n",
    "\n",
    "stopwords = set(stopwords.words('english'))  #  get English stopwords\n",
    "lemi = WordNetLemmatizer()"
   ]
  },
  {
   "cell_type": "code",
   "execution_count": 7,
   "id": "9de66b0a-f9a8-44b4-9c92-809a15631c37",
   "metadata": {},
   "outputs": [
    {
     "name": "stdout",
     "output_type": "stream",
     "text": [
      "['syria attack symptom consistent nerve agent use', 'homs governor say u attack caused death doesnt see big human loss', 'death toll aleppo bomb attack least', 'aleppo bomb blast kill six syrian state tv', 'syria rebel dead fighting key aleppo road', 'suicide bombing kill least northeast syria', 'dead heavy u raid syria stronghold', 'suicide bomber kill assad clan hometown', 'explosion rock town damascus', 'damascus explosion due rocket bomb', 'syrian regime step aerial assault douma', 'hizballah lead regime offensive southern syria', 'syrian opposition remains divided', 'video show murder syrian activist', 'syria nusra front stage deadly suicide bombing aleppo', 'regime troop thwart rebel attack syria aleppo', 'ahrar al sham leader killed syria', 'barrel bomb kill town syria', 'rebel advance north western syria', 'israeli strike syrian town kill pro regime fighter', 'syria army plane crash rebel held town', 'syrian regime revenge attack kill score qalamoun', 'chemical massacre idlib defies world', 'bus bombing mark end tragic evacuation deal syria', 'six killed aleppo bombing evacuation syrian town resume', 'killed suspected gas attack syria idlib', 'msf syrian regime used chemical weapon hama', 'toxic gas dropped syrian town russian helicopter shot', 'syrian opposition spark aleppo front relieve north fraction', 'dozen killed international coalition airstrikes manbij', 'thirty killed syrian strike damascan suburb town', 'russian syrian regime use internationally banned bomb attack aleppo', 'syria kurdish islamist violence kill al qaeda linked fighter', 'syrian army advance near aleppo', 'monitor people executed force loyal regime child', 'suicide bomber kill assad clan hometown', 'u led airstrikes target isi stronghold raqqa', 'assad regime launch operation latakia region attack syrian turkmen village', 'assad regime kill civilian aleppo monitor', 'russian airstrikes hit syrian opposition force', 'syrian warplane crash market northwest town ariha near turkish border kill wound dozen', 'suicide bomb attack syria idlib mosque kill senior nusra front leader', 'civilian killed syria hasakeh motorbike bomber attack', 'medic among least dead regime shelling opposition held syrian town', 'assad regime airstrike kill civilian syria aleppo', 'coalition airstrikes kill civilian daesh held village syria manbij', 'assad regime surround aleppo opposition group resist despite intense raid', 'u jet killed least civilian syria', 'fatality expected increase suicide blast syria', 'u led air strike syria kill dozen civilian', 'syrian opposition advance key aleppo district', 'two russian pilot killed syria daesh down chopper', 'least dead bomb hit refugee camp syria idlib', 'gas attack hit rebel held area aleppo report', 'syrian regime force drop vacuum bomb idlib', 'chemical attack idlib draw international condemnation', 'regime air strike kill syria rebel held region', 'air strike kill least northwestern syria', 'multiple daesh suicide bomber attack refugee camp syria', 'air strike syria kill eight white helmet activist', 'air strike hit hospital kill people idlib', 'deadly bomb blast hit syria aleppo', 'least killed bomb hit bus convoy syria', 'suicide bomber kill syria hasakah', 'bomb continue fall syria despite regime truce', 'syrian rebel fighter killed suicide bomb attack', 'score syrian rebel killed key aleppo road', 'u led coalition raid kill score civilian syria', 'dozen killed bombardment rebel held aleppo', 'seven child killed syria rebel held aleppo', 'syria airstrikes destroy idlib msf hospital leaving dead', 'dozen killed russian air raid held raqqa', 'four killed suspected gas attack aleppo', 'three woman killed attending funeral syria madaya', 'violence rage syria dozen killed', 'civilian killed syria aleppo', 'syrian regime bomb kurdish fighter second day', 'barrel bomb attack kill child syria aleppo', 'child killed syria homs napalm mortar round', 'killed regime strike besieged homs neighbourhood', 'dozen killed hospital damaged strike hit northwest syria', 'score killed gas attack rebel held syria town', 'syrian regime airstrikes kill civilian near damascus', 'shelling rebel bastion near syrian capital kill', 'syrian airbase struck u missile whats damage', 'strike syria idlib kill including five child', 'sarin nerve gas used syria british scientist', 'syria rebel battle break aleppo siege', 'syrian child killed west aleppo school attack', 'idlib bombing deadliest school attack syria war', 'student among score dead raid hit syria school', 'two dead twenty injured syrian regime chlorine attack', 'heavy syrian regime bombing idlib kill civilian', 'russia say belgian strike kill six aleppo region', 'hour bombardment aleppo kill', 'dozen killed car bomb attack syrian rebel', 'airstrikes continue rain east aleppo', 'russia launch new crippling air raid aleppo', 'eleven killed syrian regime controlled area aleppo', 'air raid kill syrian held village', 'suicide attack syria wedding kill', 'suicide attack kurdish wedding syria kill', 'two killed qatar red crescent syria clinic bombing', 'syrian refugee camp hit missile bomb', 'aleppo score killed airstrikes targetting un aid convoy', 'first civilian killed aleppo since start ceasefire', 'syrian child killed missile attack school', 'five dead syria airstrikes ahead planned ceasefire', 'syria regime kill civilian hama airstrikes', 'hundred dead fresh airstrikes hit syria aleppo', 'deadly aleppo convoy attack threatens aid distribution syria', 'four medic killed strike clinic near aleppo', 'syrian civil defence u russia regime attacked aid convoy', 'syrian regime repels rebel offensive near aleppo killing', 'syrian regime offensive northern aleppo leaf dead', 'unicef confirm child among deir ez zor dead', 'score civilian killed airstrikes raqqa', 'heavy regime loss islamic state raqqa counteroffensive', 'three child killed regime airstrikes homs', 'four hizballah member killed fighting syria', 'dozen dead suspected russian strike idlib marketplace', 'airstrikes syria kill dozen start ramadan', 'dozen syrian regime air raid rebel held aleppo', 'syrian regime airstrikes kill dozen around aleppo', 'airstrikes kill civilian syria safe zone monitor', 'u led strike kill civilian syria raqqa', 'deadly twin bombing hit damascus police station', 'russian airstrike kill score fleeing civilian deir az zor', 'syrian regime airstrike idlib market kill child', 'triple suicide attack near damascus police hq ministry', 'rebel shelling kill four civilian damascus monitor', 'three white helmet worker six child killed syria air', 'civilian killed relentless regime bombing besieged damascus', 'syrian regime airstrikes target besieged eastern ghouta deir az zor', 'russian strike kill civilian syria deir az zour', 'dead strike rebel held hospital syria', 'aleppo bomb blast kill six syrian state', 'dozen child dead syria evacuee bombing', 'death toll aleppo bus convoy bomb attack least observatory', 'bombing syrian bus convoy kill wound dozen outside aleppo', 'death toll bomb attack syria evacuee hit monitor', 'dead clash islamist militant near damascus monitor', 'u backed syrian fighter pressing gunman north', 'strike kill including child syria idlib monitor', 'one dead raid syria chemical attack town monitor', 'dead suspected syria chemical attack new toll', 'shelling rebel bastion near syria capital kill monitor', 'suspected gas attack syria rebel held idlib kill least observatory', 'barrel bomb attack kill child syria aleppo monitor', 'syria regime pound kurdish position second day', 'syrian rebel killed group suicide blast', 'warplane pound syria idlib battle rage aleppo', 'rebel fire syria aleppo kill state medium', 'air raid kill near syria hospital monitor', 'barrel bomb kill least civilian syria aleppo monitor', 'civilian dead air strike syria rebel town monitor', 'syria regime bombing kill rebel held aleppo monitor', 'double bomb attack kill syrian kurdish city state tv', 'syrian state tv say killed car bomb northern syria', 'aleppo rebel tunnel blast killed regime force monitor', 'u led strike kill civilian syria monitor', 'coalition raid kill civilian stronghold syria monitor', 'air raid kill civilian syria aleppo monitor', 'air raid kill civilian east syria monitor', 'air strike kill rebel held area syria aleppo monitor', 'air strike kill including child syria idlib monitor', 'coalition air strike turkish army kill group militant report', 'rocket attack kill least syria aleppo', 'motorbike bomber kill outside bakery syria hasakeh', 'killed syria army shelling rebel town monitor', 'medic among dead syria army reprisal slain pilot', 'syria air raid kill civilian monitor', 'dead attack kurd held syria town monitor', 'syria rebel rocket kill five child', 'turkish air strike kill fighter syria monitor', 'civilian dead syrian raid held village monitor', 'missile kill civilian syria aleppo monitor', 'barrel bomb kill civilian town syria', 'civilian killed regime air raid northern syria', 'huge regime bomb kill held syria town monitor', 'bomb rocket kill civilian syria aleppo monitor', 'dead new islamist alliance attack syria aleppo monitor', 'air strike syria kill least islamic state fighter monitor', 'syria regime air strike kill near damascus monitor', 'syrian air strike kill people rebel rocket attack monitor', 'syria strike kill rebel fire damascus monitor', 'syria air strike kill monitor', 'seven dead wounded central damascus blast monitor', 'syria fighting kill islamic state fighter monitor', 'suicide bomber kill assad clan hometown', 'syria force execute child alleged rebel monitor', 'jihadist killed clash syria kurd monitor', 'suicide bomber kill six syria restaurant report', 'dead al qaeda attack syria kurd town', 'dead air raid syria latakia province ngo', 'syrian army kill rebel east damascus monitoring group', 'bomb kill damascus suburb state tv', 'least killed syrian weapon depot blast', 'syria regime raid kill camp displaced ngo', 'attack syria oil field kill monitor', 'syria air strike kill child woman aleppo monitor', 'syrian troop killed clash monitor', 'syria regime bombing kill including child', 'twin blast kill kurdish fighter syria monitor', 'u led strike syria kill jihadist overnight monitor', 'u led raid syria killed jihadist civilian', 'u strike kill qaeda fighter syria monitor', 'u led strike hit qaeda syria well monitor', 'u led strike syria kill jihadist monitor', 'syria air strike kill including child monitor', 'jihadist killed fighting syria kurd monitor', 'syria air strike kill dozen rebel town monitor', 'worker dig dead syria regime strike aleppo', 'updated regime air raid kill near syria capital new toll', 'american among jihadist killed syria raid ngo', 'syria army kill rebel daraa province ambush ngo', 'syria bomb jihadist position raqa second day', 'killed syria daraa aleppo ngo', 'air raid kill jihadist syria raqa ngo', 'syria troop kill least jihadist near lebanon monitor', 'syria air strike jihadist camp kill new toll', 'syria troop killed jihadist advance monitor', 'syria air raid kill islamic state militant monitor', 'russian strike kill civilian syria deir ezzor monitor', 'car bomb kill eastern syria state medium', 'least killed air strike syrian market town observatory', 'air raid kill civilian north syria town monitor', 'body civilian found syrian town taken group', 'rebel shelling kill four civilian damascus monitor', 'least dead syria market air strike monitor', 'russia strike kill group fighter foreign mercenary syria', 'monitor killed missile strike eastern syria city', 'u led strike kill civilian syria raqa monitor', 'least killed north syria aleppo monitor', 'russia regime strike kill east syria monitor', 'civilian killed raid syria group bastion raqa monitor', 'syria rebel kill aleppo assault capture village monitor', 'air strike syria idlib kill monitor', 'civilian dead air strike market east syria monitor', 'syria regime raid aleppo kill civilian monitor', 'updated syria regime strike near aleppo civil defence', 'suicide bomber kill one syria regime stronghold state tv', 'child among dead syria regime bombing civil defence', 'opposition minister among dead syria car bomb rebel', 'civilian killed syria aid convoy attack red cross', 'russia say syrian troop killed u led strike', 'killed raid syria idlib monitor', 'new strike kill least civilian syria aleppo monitor', 'syrian army say rebel bombardment aleppo killed three day', 'dozen civilian dead rebel assault aleppo', 'rebel aleppo attack putin cautious new russian raid', 'rebel fire kill aleppo schoolchildren state medium', 'syria monitor say air strike kill school rebel held idlib', 'group group land mine killed wounded dozen syrian town', 'dead heavy bombardment syria idlib monitor', 'air raid kill least civilian syria aleppo monitor', 'turkish military say group militant killed northern syria', 'blast syria turkey border kill rebel monitor', 'suicide attack syria wedding kill medical source', 'isil crucifies men syria aleppo ngo', 'least syrian soldier killed israeli raid ngo', 'jihadist execute three syria rebel officer monitor', 'car bomb kill least syria hama state medium region world ahram online', 'syria air raid displaced person camp kill ngo region world ahram online', 'dead syria barrel bomb attack aleppo', 'syria rebel infighting kill fighter day region world ahram online', 'car bomb syria homs kill governor region world ahram online', 'killed syria rebel shell assad election rally monitor region world ahram online', 'syrian army missile kill including kid region world ahram online', 'bomb syria idlib kill government fighter monitoring group region world ahram online', 'child among dead syria car bombing state medium region world ahram online', 'car bomb rocket fire kill syria homs governor region world ahram online', 'mortar fire damascus kill wound state medium region world ahram online', 'dead rebel fire regime part aleppo ngo region world ahram online', 'dead two day clash syria daraa monitor region world ahram online', 'air raid kill syria market monitor region world ahram online', 'air strike kill dozen syria aleppo monitor group region world ahram online', 'twin car bomb kill syria homs state medium region world ahram online', 'rebel dead syria premature car bomb blast ngo region world ahram online', 'mortar fire kill two damascus opera house state medium region world ahram online', 'syria rebel jihadist killed ngo region world ahram online', 'car bomb kill six syria homs ngo region world ahram online', 'car bomb blast kill syria homs ngo region world ahram online', 'five dead blast security hq central syria ngo region world ahram online', 'israeli attack syria military camp kill three jordan time', 'dozen dead car bomb hit syria evacuee jordan time', 'strike kill near syria daesh held raqqa monitor jordan time', 'outrage syria chemical attack kill dozen rebel held town jordan time', 'five dead russian military helicopter downed syria jordan time', 'dozen dead warplane pound rebel held north syria jordan time', 'dozen dead warplane pound rebel held north syria jordan time', 'least killed north syria aleppo monitor jordan time', 'massive daesh bomb attack kill syrian kurdish city jordan time', 'syria regime advance rebel aleppo monitor jordan time', 'civilian killed regime air raid northern syria jordan time', 'barrel bomb kill civilian daesh town syria jordan time', 'syria regime air strike kill least monitor jordan time', 'syria air strike kill least monitor jordan time', 'syria regime air strike kill near damascus monitor jordan time', 'massive daesh bomb attack kill syrian kurdish city jordan time', 'least killed north syria aleppo monitor jordan time', 'syria rebel kill aleppo assault capture village monitor jordan time', 'raid syria market kill hundred flee daesh bastion jordan time', 'dead daesh counterattack syria regime force jordan time', 'syrian russian aircraft step bombing aleppo city monitor jordan time', 'syria air strike kill mostly child outside school jordan time', 'syrian government push damascus rebel enclave kill least jordan time', 'air strike kill syria truce zone monitor jordan time', 'syria regime bombardment kill schoolchildren besieged enclave jordan time', 'russian strike kill fleeing civilian east syria monitor jordan time', 'u led strike kill civilian syria raqqa monitor jordan time', 'russia say kill extremist mercenary syria claim shishani death jordan time', 'national news agency damascus explosion due rocket bomb', 'national news agency blast syria homs kill child', 'national news agency coalition raid kill isil fighter', 'least killed bomb hit bus convoy syria', 'u led air strike syria kill dozen civilian', 'two russian pilot killed syria daesh down chopper', 'u jet killed least civilian syria', 'russian strike kill aleppo', 'syrian russian air strike kill civilian idlib', 'syrian russian air strike kill city ashara', 'suicide attack near shia shrine kill syrian observatory', 'russian syrian strike kill civilian', 'u russia brokered syria truce end', 'air strike syria kill least people', 'string bomb blast kill least syria', 'heavy air strike hit opposition held part aleppo', 'unicef say schoolchildren six teacher killed syria raid', 'russian syrian regime strike kill aleppo', 'car bomb syria kill least near turkish border', 'russian jet resume airstrikes aleppo', 'suicide bombing kill syria turkey border', 'suicide bomber target syrian wedding killed', 'car bomb attack kill least syria war monitor say', 'air strike kill dozen inside syria de escalation zone', 'least seven child die regime shelling rebel held area syria', 'least civilian killed russian regime air strike syria', 'russia air strike kill least civilian syria monitor', 'least dead suicide bombing hit damascus', 'unidentified air strike kill least eight hezbollah fighter syria', 'least killed dozen injured twin bombing target syria qamishli near turkish border daily sabah', 'air strike syrian hospital kill monitoring group say daily sabah', 'civilian killed russian air strike syria aleppo daily sabah', 'russian airstrikes target civilian syria idlib killed daily sabah', 'daesh russia syrian regime target opposition daily sabah', 'syrian warplane pound idlib leave dead daily sabah', 'assad regime helicopter kill people barrel bomb aleppo daily sabah', 'syria us chemical weapon turkey offer remedy lnur evik daily sabah', 'least civilian dead toxic gas attack syria idlib', 'russian airstrikes hit syrian opposition force', 'opposition force claim fighter killed others injured russian airstrikes syria idlib', 'russian strike kill civilian syria idlib monitor', 'bomb kill woman wound syria homs', 'daesh terrorist kill men syria deir el zour daily sabah', 'u coalition airstrikes kill civilian east syria', 'airstrikes northern eastern syria kill civilian activist', 'least dead blast targeting evacuation convoy stranded near aleppo', 'u led coalition airstrike kill partner force pentagon say', 'civilian killed injured assad regime airstrikes syria idlib', 'assad regime target civilian homs airstrikes', 'least white helmet rescuer killed airstrike syria hama', 'airstrikes assad regime warplane kill syria idlib destroy mosque hama', 'assad regime kill least refugee camp', 'isi recapture syrian gas field kill monitoring group say', 'least die barrel bomb attack syrian regime warplane', 'kurdish fighter killed twin blast syria', 'u led raid kill isi militant overnight monitor say', 'school bombing kill child syria monitor', 'terrorist killed n syria turkish artillery coalition jet pound daesh target daily sabah', 'regime russia air strike kill idlib strike continue pound road death aleppo', 'daesh claim responsibility bombing near damascus least dead', 'least killed dozen injured twin bombing target syria qamishli near turkish border', 'coalition airstrikes kill civilian daesh held village syria manbij', 'civilian killed syria hasakeh motorbike bomber attack', 'assad regime airstrike kill civilian syria aleppo', 'child killed airstrikes eastern syria latest round russian syrian bombing unicef', 'killed injured airstrike area near hospital marketplace syria aleppo', 'civilian killed russian airstrike syria', 'syrian regime bombing kill civilian aleppo region', 'turkish military kill daesh terrorist syria', 'child teacher killed russian syrian airstrikes near school idlib', 'daesh mine killed wounded dozen ypg held manbij hrw say', 'aleppo airstrikes kill people opposition held area', 'killed injured russian air strike syria idlib', 'death toll rise aleppo british fm blame russia', 'suicide attack wedding party syria kill injures', 'killed suicide attack syria wedding', 'moderate opposition fighter killed clash daish northern syria', 'least killed regime strike aleppo un meet syria', 'assad regime strike kill civilian syria aleppo', 'assad air strike kill least civilian including child syria aleppo', 'airstrikes clinic kill medic syria aleppo', 'air strike kill civilian daesh held syria town monitor', 'civilian killed assad regime bombing near damascus', 'assad regime airstrikes kill least civilian syria eastern ghouta', 'people including child killed assad regime near damascus un say', 'people killed others injured daesh car bomb eastern syria', 'regime shelling kill civilian including child syria damascus', 'regime airstrikes kill civilian aleppo opposition held atareb', 'least killed triple bombing syria damascus', 'jabhat al nusra terrorist execute gunman family attempt surrender arm', 'civilian killed injured aleppo shelling august', 'syrian force destroy terrorist approached palmyra medium', 'chemical attack claimes life syria', 'u led coalition airstrikes kill civilian northern syria', 'person killed others injured terrorist rocket attack aleppo city', 'ten civilian child killed airstrike u led coalition raqqa', 'civilian killed escalating bombardment idlib last three day', 'abdah assads bombing aleppo encouraged international community bias', 'civilian killed barrel bomb attack rural aleppo', 'civilian killed injured terrorist rocket attack aleppo deir ezzor', 'isi executes three people raqqa deir ezzor', 'civilian dead coalition strike near raqqa', 'killed injured terrorist rocket attack aleppo', 'case suffocation terrorist chemical attack al hamadaniyeh area aleppo city', 'martyr kefraya al fouaa escorted military hospital aleppo', 'civilian killed injured terrorist attack aleppo', 'least civilian suffer suffocation case isi terrorist attack toxic gas mare city aleppo', 'terrorist rocket attack target aleppo city killing one civilian', 'syrian army kill isil terrorist destroy posit deir ezzor', 'person killed others injured terrorist rocket attack aleppo city', 'four killed including two woman terrorist attack aleppo quneitra', 'terrorist attack kill woman injure hasaka aleppo', 'u led coalition airstrikes kill least ten civilian raqqa', 'three people killed five injured terrorist rocket attack aleppo', 'nine person killed injured terrorist attack aleppo city', 'title isil kill central syria attack', 'two child killed others injured terrorist rocket attack aleppo', 'ten civilian child killed airstrike u led coalition raqqa', 'three civilian killed others injured terrorist attack aleppo', 'family six die east aleppo chlorine gas attack', 'syrian coalition fsa force able stand assad isi', 'russian force kill isi fighter foreign mercenary syria', 'one person killed others injured terrorist rocket attack aleppo', 'civilian killed regime air raid rural aleppo', 'three killed including woman injured terrorist rocket attack aleppo city', 'dozen casualty syria aleppo bomb blast', 'civilian killed injured terrorist rocket attack aleppo deir ezzor', 'girl child killed two others injured terrorist rocket attack neighborhood aleppo city', 'child killed people injured terrorist attack aleppo damascus countryside quneitra', 'alabdah deir ezzor subjected twofold suffering assad regime isi', 'deadly russian airstrikes kill destroy hospital idlib', 'zarif urge intl fact finding mission probe syria gas attack', 'civilian killed others injured due terrorist rocket attack aleppo damascus', 'assad regime ally intensify attack damascus countryside', 'silence russia crime serf goal undermining political solution', 'isi kill central syria attack', 'seven killed others injured due terrorist attack aleppo sweida', 'eight civilian killed others injured terrorist rocket attack aleppo homs', 'death toll syrian bombing raid aleppo rise monitor', 'iran say syria let u n inspector visit chemical site', 'terrorist rocket attack salah eddin neighborhood aleppo kill civilian injure', 'russian aerospace force destroy isi oil refining station kill terrorist past week', 'turkey say test syria attack victim point possible sarin exposure', 'syrian coalition targeting civilian terrorism pure simple civilian killed russian airstrikes rural deir ezzor', 'saudi arabia call emergency u n council meeting syria', 'assads force bombard damascus suburb gas attack activist', 'syrian coalition urge un relieve deir ezzor resident', 'people killed russian assad regime airstrikes school public market rural idlib', 'three civilian killed rocket attack aleppo isi attack hasaka city mortar car bomb', 'citizen killed injured terrorist attack shell damascus aleppo idleb', 'citizen killed injured terrorist attack shell damascus aleppo idleb', 'citizen killed injured terrorist attack shell damascus aleppo idleb', 'citizen killed injured terrorist attack shell damascus aleppo idleb', 'medic killed russian airstrikes hospital southern aleppo syrian coalition describes attack war crime', 'steifo regime ally onslaught aleppo failed achieve objective', 'terrorist organization target shell un office al meridian neighborhood aleppo', 'bomb syria aleppo kill pro assad fighter monitor', 'ten civilian injured terrorist attack daraa countryside aleppo damascus', 'citizen killed terrorist attack residential neighborhood aleppo', 'alhassan call un action stop russia use banned weapon syria', 'assads air force kill civilian raqqa', 'syrian coalition condemns attack syrian interim government headquarters azaz aleppo', 'nine civilian killed regime airstrikes rural homs today', 'seven people killed score injured terrorist attack aleppo damascus', 'isi continues displace local rural deir ezzor', 'killed aleppo regime commits massacre civilian fleeing besieged neighborhood', 'abdah assads bombing aleppo encouraged international community bias', 'killed others injured terrorist attack shell mortar aleppo quneitra', 'civilian killed barrel bomb attack rural aleppo', 'terrorist attack leave child woman dead others injured aleppo cause material damage daraa', 'france britain say u n must access alleged syria attack site', 'terrorist attack kill injure score aleppo idleb', 'interim minister health aleppo hospital service bombardment continues', 'syrian coalition mourns rescue worker killed airstrikes rural aleppo', 'russian general staff warns new u missile strike syria', 'syrian coalition russia offering syrian people choice accepting assads term total annihilation', 'russia terrorist breached cessation hostility time hour breach aleppo', 'syrian coalition demand un action chapter vii following regime chlorine attack saraqib idlib', 'syrian coalition demand un action chapter vii following regime chlorine attack saraqib idlib', 'syrian coalition declares idlib disaster area amid deadly aerial campaign', 'assad regime escalates attack besieged alwaer district homs force resident', 'islamic state killed syrian gas field battle monitor', 'islamic state killed syrian gas field battle monitor', 'france seek u n resolution syria chemical arm', 'civilian killed russian airstrikes aleppo despite hour truce', 'death toll terrorist rocket attack aleppo rise casualty reported idleb damascus', 'syrian coalition assad used chemical weapon time since ghouta massacre', 'mother child killed east aleppo bombardment', 'syrian coalition condemns horrific massacre russian air force town atareb aleppo province', 'assad regime commits horrific massacre loss idlib', 'assad regime commits horrific massacre loss idlib', 'deir ezzor civilian stuck regime hammer isis anvil', 'five killed four injured terrorist attack aleppo hama damascus countryside', 'kerry discusses chemical attack syrian foreign minister', 'dozen killed intensified russian regime airstrikes idlib', 'russian airstrikes hit msf hospital idlib', 'iranian militia carry summary execution civilian aleppo', 'russian airstrikes disrupt last remaining ambulance service rural aleppo', 'syrian coalition call holding assad regime accountable repeated chemical attack', 'french fm indication syria behind chemical attack', 'death toll terrorist attack aleppo rise injured', 'civilian killed injured rocket terrorist attack aleppo city past hour', 'syrian coalition urge intl community stop crime regime russia syrian civilian', 'syrian coalition decries u led alliance silence al raqqa massacre', 'security council seek clarity chemical weapon report syria', 'factbox congress debate obamas plan syria strike', 'syria assad regime likely responsible chemical attack right group', 'three killed injured terrorist attack including chemical weapon aleppo', 'army advance al rasafa raqqa shoot drone isi terrorist', 'obama say shifting domestic priority syria focus', 'new family escape crime terrorist get aleppo eastern neighborhood', 'u n inspector visit syria chemical attack site', 'kurd led force press islamic state near syria raqqa', 'syrian army islamic state clash near army airport monitor', 'civilian killed one week ongoing bombing campaign majority aleppo', 'civilian killed escalating bombardment idlib last three day', 'russian defense ministry isi terrorist killed deir ezzor', 'world power right track syria chemical arm putin', 'coalition letter un unsc press stopping assads russia onslaught aleppo', 'islamic state executed people syrian tribe monitoring group', 'u leaf door open new u n vote syria arshad mohammed', 'syrian islamist insurgent launch battle seize government held aleppo', 'syria fighting worst since aleppo air strike deadly aid agency', 'army establishes control jabal badro neighborhood aleppo al halk area east city', 'factbox syria city hama site new assault', 'factbox syria city hama site new assault', 'isi attack kurdish held town turkish border', 'isi attack kurdish held town turkish border', 'four people killed including child others injured terrorist attack damascus countryside aleppo homs quneitra hasaka', 'assad regime chemical weapon', 'world leader react syria chemical attack claim', 'people mostly schoolchildren killed terrorist rocket attack aleppo', 'people mostly schoolchildren killed terrorist rocket attack aleppo', 'people mostly schoolchildren killed terrorist rocket attack aleppo', 'army establishes control minian town aleppo continues advance area', 'hundred dead islamic state seizes syrian air base monitor sylvia westall', 'hundred dead islamic state seizes syrian air base monitor sylvia westall', 'rescuer say gas dropped syrian town russian copter downed', 'blaming assad trump say syria attack cannot tolerated', 'death toll mount bomb blast aleppo evacuee bus convoy', 'syrian opposition killed chemical attack ghouta region', 'syria chemical weapon glove come', 'activist say killed gas attack near damascus', 'islamic state beheads crucifies push syria east', 'rebel launch assault syria divided aleppo', 'assad regime responsible awful syria chemical attack eu mogherini', 'rebel held zone syria aleppo brace renewed bombardment', 'syrian russian jet pound rebel area', 'u n chief push syria allow chemical attack probe', 'syria gas kill hundred security council meet', 'bomb blast kill damascus suburb', 'car bomb kill four damascus', 'saudi backed rebel behind syria chemical attack report', 'extremism take hundred life latakia', 'syrian die ammo depot blast', 'isil terrorist massacre syrian troop raqqa', 'isil kill people syrian tribe', 'syrian air strike isil controlled raqqa kill', 'isil terrorist execute captive syrian troop raqqa', 'hundred killed street battle rage kobni', 'dead dozen wounded terrorist battle aleppo', 'syria kurd liberate tel hamiskills isi member week', 'syria kurd liberate tel hamiskills isi member week', 'isi begin kill abducted christian hasaka syria', 'isi behead shot captured assyrian mass killing friday', 'terrorist attack damascus kill injure', 'al nusra front commander killed lattakia syria', 'israeli strike syrian town kill soldier', 'ambush syrian force kill terrorist', 'isi video show killing syrian activist picture', 'hezbollah syrian army kill al nusra front commander qalamoun', 'terrorist killed latest syrian army offensive aleppo', 'jeish al fatah terrorist killed syrian army aleppo', 'senior nusra front leader homs killed syrian army offensive', 'civilian killed u led coalition attack northern syria', 'sdf foiled isi attack northeastern aleppo terrorist killed', 'senior isi commander terrorist killed clash eastern aleppo', 'syrian army kill terrorist missile attack northwest hama province', 'syrian army killed notorious al nusra emir northern homs', 'daesh terrorist group execute member raqqa', 'aleppo civilian massacre continues killed injured', 'nusra terrorist killed injured castello road aleppo', 'urgent killed injured tell abyad terroirst attack northern syria', 'daesh kidnapped executed people syria aleppo', 'turkey coalition kill daesh terrorist northern syria aleppo', 'daesh run area raqqa province terrorist killed', 'isi terrorist killed turkey u led coalition syria report', 'syrian civilian child killed aleppo u airstrikes report', 'hezbollah al nujaba kill al nusra militant syria khan touman', 'terrorist group infighting eastern ghouta killed militia', 'syrian air force target isi deir el zour terrorist killed', 'dozen killed injured terrorist missile attack syria aleppo hospital', 'syrian army killed isi terrorist oil field east homs', 'civilian killed injured continued terrorist attack aleppo', 'injured new terrorist mortar shell attack aleppo neighborhood', 'kurd kill injured isi terrorist day near efrin', 'al nusra al qaeda terrorist attack kill civilian syria aleppo hama', 'terrorist infiltrated syria turkey latakia russian coordination center', 'killed wounded al nusra front shelling sheikh maqsood', 'killed injured jaysh al islam chemical attack aleppo', 'civilian killed injured terrorist attack aleppo', 'terrorist attack kill two injures three aleppo city', 'turkey nightmare kurd come closer azaz isi bomber killed', 'isil terrorist killed russian offensive homs', 'militant killed car bomb blast syria quneitra', 'twin bomb attack kill injure dozen syria homs province', 'terrorist killed syrian army operation across country', 'syrian army kill isi terrorist deir ezzor', 'terrorist rocket attack kill civilian injured dozen daraa', 'least civilian killed injured rocket fire daraa syria', 'u coalition warplane kill ten civilian syria aleppo', 'syrian army unit kill terrorist hama province', 'killed airstrike village aleppo province belgian f jet area', 'jaysh al fateh terrorist killed clash syrian army', 'syrian army kill fateh al sham terrorist captured rural daraa', 'killed injured terrorist rocket attack western aleppo', 'child killed people injured terrorist attack damascus countryside aleppo homs hasaka', 'killed injured terrorist shelling aleppo residential neighborhood', 'killed syrian russian airstrikes isi training camp homs', 'nusra front mortar attack kill injures syrian eastern aleppo province', 'killed injured terrorist rocket attack aleppo city', 'u led coalition bombing raqqa leaf syrian civilian dead report', 'least killed injured terrorist mortar attack aleppo', 'isi terrorist killed syrian army anti terrorism operation eastern homs', 'isil us chemical weapon syria aleppo', 'syrian army foil attack deir ez zor killing daesh terrorist', 'least civilian killed u warplane bombardment manbij', 'jeish al fatah terrorist killed syrian army aleppo', 'syrian rebel killed isi suicide blast', 'militant killed aleppo military academy clash syrian army', 'jeish al fatah pound airstrikes terrorist killed ten injured', 'civilian ypg fighter killed injured turkey near jarablus', 'syrian army kill top terrorist commander daraa province', 'turkish trooper killed wounded daesh attack n syria', 'syrian jet pound isi offensive hama killing terrorist', 'death toll bomb attack syria evacuee rise', 'u airstrikes kill civilian syria deir ezzor', 'civilian killed injured car bomb attack deir ezzor', 'least killed u airstrike syria raqqa local report', 'russia say kill nusra front field commander syria air strike', 'syria accuses rebel using chemical weapon', 'syrian opposition claim poisonous gas attack', 'syrian army kill militant two day near syria turkey border', 'civilian killed coalition airstrikes syria un', 'u led airstrikes kill civilian syria syrian observatory', 'double terrorist attack homs kill including child report', 'u airstrikes kill civilian inculding child near syria aleppo report', 'explosion kill four hometown assad family', 'islamist launch rocket attack damascus least killed wounded', 'least six lebanese pilgrim killed dozen hurt damascus bus blast', 'least killed suicide blast army outpost aleppo', 'explosion syrian mosque leaf least dead', 'daesh terrorist killed sdf operation syrian main battlefield', 'least five police officer killed damascus blast', 'russian jet destroy daesh training center take seven commander syria', 'u led coalition airstrikes kill least civilian syrian deir ez zor', 'least three civilian killed daesh shelling syria deir ez zor sputnik international', 'russian force destroy daesh command post syria killing terrorist', 'russian airstrikes destroy daesh command center kill terrorist near mayadin', 'two suicide bomber detonate explosive near police station syria damascus', 'daesh executes civilian town cooperating syrian government', 'hama province syrian troop reportedly kill terrorist free civilian', 'u led coalition airstrike kill civilian manbij', 'six people killed shelling central damascus hospital staff', 'terrorist shell syria aleppo al baath killing injuring', 'u led coalition kill daesh operative plotting terrorist attack', 'syrian airstrikes kill daesh fighter hama province', 'suicide blast near ahrar al sham militant hq syria leaf dead', 'daesh attack syrian deir ez zor rocket kill civilian', 'death toll daesh militant attack village syrian hama reach', 'syrian army kill wound dozen daesh militant deir ez zor sputnik international', 'u led coalition strike syrian abu kamal leave civilian dead', 'u led coalition strike raqqa kill civilian', 'russian airstrikes kill daesh terrorist fleeing raqqa', 'eight civilian killed u led coalition airstrike west syria raqqa', 'clash several militant group damascus suburb leave dead', 'kurdish sdf kill daesh militant part operation liberate al tabqa', 'kurdish pyd armed wing kill turkish soldier north syria', 'alleged israeli strike killed syrian defense force fighter golan', 'civilian child killed april terrorist attack near aleppo', 'kurdish led force kill daesh militant northern syrian city al tabqah', 'center damascus shelled civilian killed injured', 'kurdish led force kill daesh militant northern syria hour', 'death toll blast targeting evacuee besieged town aleppo rise', 'u coalition strike accidentally kill kurdish led moderate rebel syria', 'syrian army eliminates nusra front militant southern city daraa', 'kurdish led force eliminate daesh militant near al tabqah northern syria', 'civilian death toll u led coalition airstrike raqqa rise', 'least civilian die u led coalition strike near raqqa', 'u missile strike syrian airbase killed four child living nearby', 'u missile strike syria kill five injures seven homs governor', 'least child killed syrian idlib attack', 'kurdish sdf troop kill daesh militant near syria town al tabqah', 'extremist syria admit killing alawites', 'militant attack syria idlib kill including journalist', 'damascus car bomb kill four', 'syrian army kill al nusra front member damascus ambush', 'killed qaeda attack syria kurd town', 'militant claimed syria fierce fighting homs aleppo', 'syrian army kill dozen al nusra member adra ambush', 'bomb kill damascus suburb', 'damascus car bomb kill people least', 'deadly blast hit south damascus', 'isil armed group battle rural idlib killed', 'isil militant killed clash kurd ne syria', 'isil kill fsa member qalamoun barren', 'isil nusra clash fiercely qalmoun barren terrorist killed injured', 'syrian army kill isil terrorist deir ezour', 'kurdish force kill isil terrorist syria', 'isil terrorist killed kobani hour', 'isil claim beheading syrian u aid worker', 'syrian army kill terrorist commander barren assal al ward qalamoun', 'syrian army kill terrorist commander qalamoun advance deir ezour al manar tv website archive', 'mortar attack target damascus school claim child', 'isil beheads syria militant despite surrendering', 'isil terrorist killed kobani', 'twin car bomb syria homs kill school student', 'syrian army frustrates terrorist attack qalamoun kill terrorist', 'leader ahrar al sham killed idleb blast', 'terrorist killed idleb syrian army regains several town hamah', 'syrian army kill isil terrorist deir ezour advance jobar', 'isil kill crucifies syrian deir ezzor', 'syrian army kill terrorist qalamoun advance jobar', 'syrian army kill al nusra front terrorist daraa', 'syrian army ambush kill isil terrorist raqqa countryside', 'syrian army kill isil terrorist raqqa province', 'least executed isil deir ezour', 'syria terrorist commit massacre hama village civilian killed', 'syrian army kill terrorist various province', 'twin suicide blast target checkpoint near damascus claim martyr', 'terrorist rocket shell claim civilian aleppo', 'jaysh al islam fire rocket shell damascus kill wound', 'terrorist bomb target bus damascus claim lebanese martyr injured', 'killed nusra attack u trained militant syria', 'israeli drone strike kill popular fighter syria quneitra', 'syria civilian killed others injured mortar shell bomb attack', 'isil used chemical weapon syria kurd hasakeh', 'u led air strike kill al nusra gunman syria', 'syrian army foil takfiri attack daraa kill least gunman lattakia', 'u raid isils syria stronghold kill including civilian', 'terrorist blast kill grand mosque imam damascus', 'five civilian killed terrorist rocket attack aleppo', 'isil terrorist execute civilian seizing syria village', 'syria dozen martyred injured qamishli isil terrorist attack', 'death toll terrorist attack aleppo city rise injured', 'u led coalition strike kill civilian northern syria', 'russian strike kill isil fighter syria', 'syrian force foil raid castello kill militant', 'syria terrorist target aleppo rocket shell', 'civilian killed terrorist rocket attack aleppo', 'syrian army ally kill terrorist mallah farm aleppo', 'civilian killed injured terrorist car attack tal abyad raqqa', 'civilian injured new terrorist rocket attack aleppo', 'syrian army advance latakia kill terrorist', 'syria terrorist attack aleppo claim martyr', 'civilian killed injured terrorist rocket attack deir ezzor aleppo', 'civilian killed injured new terrorist rocket attack aleppo', 'terrorist bombing claim syria latakia', 'civilian killed injured terrorist rocket attack deir ezzor aleppo', 'nusra terrorist killed hama', 'one killed others injured terrorist attack damascus homs aleppo', 'syrian army kill terrorist hama break siege zara power plant', 'dead rival terrorist group clash eastern gouta monitor', 'syria five civilian killed terrorist car bomb attack qamishli city', 'civilian killed terrorist rocket attack aleppo idleb', 'several syrian killed injured homs suicide blast al manar tv website archive', 'suicide bomber kill five kurdish police syria', 'syria civilian killed score injured terrorist attack aleppo', 'killed injured terrorist rocket attack aleppo daraa', 'eight martyred car bomb near sayyeda zeinab shrine', 'child killed civilian injured terrorist attack damascus aleppo', 'syrian army kill isil terrorist hama', 'many civilian martyred terrorist shell aleppo', 'two killed three injured terrorist attack aleppo city', 'al nusra spokesman son terrorist killed idleb strike', 'syrian army retake qaryatain city homs kill terrorist hama', 'syrian army kill isil terrorist aleppo northern countryside', 'syrian army advance aleppo kill terrorist hama homs', 'syrian killed injured terrorist rocket attack deir ezzor city', 'syria terrorist bombing kill injure civilian hama countryside', 'three terrorist attack target sayyeda zeinab area rural damascus kill', 'syrian army kill isil terrorist aleppo', 'dozen insurgent killed syria kurd advance aleppo countryside', 'eight civilian killed injured terrorist bombing damascus', 'bomb kill army checkpoint syria homs', 'car bomb syria aleppo kill including militant', 'civilian killed terrorist attack damascus aleppo', 'turkish bombardment kill civilian syria', 'martyr terrorist shell aleppo salah eddin', 'chemical attack kill five syrian aleppo sana', 'killed russian military chopper shot syria', 'syrian army kill isil terrorist deir ezzor']\n"
     ]
    }
   ],
   "source": [
    "corpus=[]\n",
    "for text in X:\n",
    "    review=re.sub('[^a-zA-Z]', ' ', text) # keep only alphabets\n",
    "    review=review.lower().split()\n",
    "    review=[lemi.lemmatize(word) for word in review if word not in stopwords]\n",
    "    review=' '.join(review)\n",
    "    corpus.append(review)\n",
    "print(corpus)"
   ]
  },
  {
   "cell_type": "code",
   "execution_count": 9,
   "id": "068bb7fe-c63b-4fed-a0ff-6d41a7579b4a",
   "metadata": {},
   "outputs": [],
   "source": [
    "#Tokenization & Padding\n",
    "voc_size = 10000  # vocabulary size\n",
    "max_len = 100     # max sequence length\n",
    "token=Tokenizer(num_words=voc_size , oov_token='<OOV>')\n",
    "token.fit_on_texts(corpus)\n",
    "sequences = token.texts_to_sequences(corpus)\n",
    "X_embedded = pad_sequences(sequences , maxlen=max_len , padding='post')"
   ]
  },
  {
   "cell_type": "code",
   "execution_count": 10,
   "id": "6cc5fc8b-dce4-4540-95f3-847b47fac416",
   "metadata": {},
   "outputs": [],
   "source": [
    "#Train test split\n",
    "X_train, X_temp, y_train, y_temp = train_test_split(X_embedded, y, test_size=0.3, random_state=23)\n",
    "X_val, X_test, y_val, y_test = train_test_split(X_temp, y_temp, test_size=0.3, random_state=23)\n"
   ]
  },
  {
   "cell_type": "code",
   "execution_count": 16,
   "id": "c2dc8b6c-42c2-4466-8829-589fea8615a2",
   "metadata": {},
   "outputs": [
    {
     "name": "stdout",
     "output_type": "stream",
     "text": [
      "Model: \"sequential_1\"\n",
      "_________________________________________________________________\n",
      " Layer (type)                Output Shape              Param #   \n",
      "=================================================================\n",
      " embedding_1 (Embedding)     (None, 100, 100)          1000000   \n",
      "                                                                 \n",
      " bidirectional_1 (Bidirectio  (None, 64)               34048     \n",
      " nal)                                                            \n",
      "                                                                 \n",
      " dense_1 (Dense)             (None, 1)                 65        \n",
      "                                                                 \n",
      "=================================================================\n",
      "Total params: 1,034,113\n",
      "Trainable params: 1,034,113\n",
      "Non-trainable params: 0\n",
      "_________________________________________________________________\n",
      "None\n"
     ]
    }
   ],
   "source": [
    "#Creating model\n",
    "dim=100 #per words 100 features\n",
    "model=Sequential()\n",
    "model.add(Embedding(voc_size , dim , input_length=max_len)) #(max_len x dimension)\n",
    "model.add(Bidirectional(LSTM(32)))\n",
    "model.add(Dense(1 , activation='sigmoid'))\n",
    "\n",
    "model.compile(loss='binary_crossentropy' , optimizer='adam' , metrics=['accuracy'])\n",
    "print(model.summary())\n"
   ]
  },
  {
   "cell_type": "code",
   "execution_count": 17,
   "id": "542be704-c3b7-44b5-a548-fd18286c841c",
   "metadata": {},
   "outputs": [],
   "source": [
    "early_stop = EarlyStopping(\n",
    "    patience=2,\n",
    "    monitor='val_accuracy',\n",
    "    restore_best_weights=True\n",
    ")"
   ]
  },
  {
   "cell_type": "code",
   "execution_count": 18,
   "id": "1ade909f-8ad4-452c-9cee-09abad6363d4",
   "metadata": {},
   "outputs": [
    {
     "name": "stdout",
     "output_type": "stream",
     "text": [
      "Epoch 1/10\n",
      "18/18 [==============================] - 13s 255ms/step - loss: 0.6937 - accuracy: 0.5178 - val_loss: 0.6903 - val_accuracy: 0.5385\n",
      "Epoch 2/10\n",
      "18/18 [==============================] - 2s 130ms/step - loss: 0.6887 - accuracy: 0.5196 - val_loss: 0.6905 - val_accuracy: 0.5385\n",
      "Epoch 3/10\n",
      "18/18 [==============================] - 2s 135ms/step - loss: 0.6796 - accuracy: 0.6210 - val_loss: 0.6953 - val_accuracy: 0.5030\n"
     ]
    },
    {
     "data": {
      "text/plain": [
       "<keras.callbacks.History at 0x1f0cfb63a30>"
      ]
     },
     "execution_count": 18,
     "metadata": {},
     "output_type": "execute_result"
    }
   ],
   "source": [
    "#Train model\n",
    "model.fit(X_train , y_train ,validation_data=(X_val , y_val) , epochs=10 , batch_size=32 , callbacks=[early_stop])"
   ]
  },
  {
   "cell_type": "code",
   "execution_count": 19,
   "id": "45a4e2d3-b521-4932-ac4f-8b201d7662ac",
   "metadata": {},
   "outputs": [
    {
     "name": "stdout",
     "output_type": "stream",
     "text": [
      "3/3 [==============================] - 0s 68ms/step - loss: 0.6868 - accuracy: 0.5890\n",
      "[0.6867783665657043, 0.5890411138534546]\n"
     ]
    }
   ],
   "source": [
    "#evaluate on test set\n",
    "test_acc=model.evaluate(X_test , y_test)\n",
    "print(test_acc)"
   ]
  },
  {
   "cell_type": "raw",
   "id": "d55c94e7-e8bb-4f49-83a2-0a7a4594271d",
   "metadata": {},
   "source": [
    "Observation : The training, validation, and test accuracy scores are now closely aligned, indicating that the model has achieved better generalization"
   ]
  },
  {
   "cell_type": "code",
   "execution_count": 20,
   "id": "1814ded9-f371-4e00-97b8-17d6f4c4b828",
   "metadata": {},
   "outputs": [
    {
     "data": {
      "text/plain": [
       "labels\n",
       "1    426\n",
       "0    378\n",
       "Name: count, dtype: int64"
      ]
     },
     "execution_count": 20,
     "metadata": {},
     "output_type": "execute_result"
    }
   ],
   "source": [
    "y.value_counts()"
   ]
  },
  {
   "cell_type": "raw",
   "id": "1c93581d-8f00-4597-be8e-4342a30addc8",
   "metadata": {},
   "source": [
    "Obseravtion : It shows that my dataset are not imbalanced."
   ]
  },
  {
   "cell_type": "code",
   "execution_count": 28,
   "id": "89a1463c-a8b1-44de-80d3-4b1d2a6b7205",
   "metadata": {},
   "outputs": [
    {
     "name": "stdout",
     "output_type": "stream",
     "text": [
      "3/3 [==============================] - 0s 39ms/step\n"
     ]
    }
   ],
   "source": [
    "y_pred_prob= model.predict(X_test)\n",
    "y_pred=(y_pred_prob>0.5).astype(int)"
   ]
  },
  {
   "cell_type": "code",
   "execution_count": 32,
   "id": "7b48a9d5-8dda-4005-a4c6-8ebfe843efd8",
   "metadata": {},
   "outputs": [
    {
     "name": "stdout",
     "output_type": "stream",
     "text": [
      "     Actual Data  Predicted Data\n",
      "674            1               1\n",
      "153            1               1\n",
      "248            1               1\n",
      "596            0               1\n",
      "197            0               1\n",
      "564            0               1\n",
      "661            0               1\n",
      "387            1               1\n",
      "364            0               1\n",
      "167            0               1\n",
      "284            0               1\n",
      "131            1               1\n",
      "134            0               1\n",
      "650            1               1\n",
      "213            0               1\n",
      "135            1               1\n",
      "574            1               1\n",
      "743            1               1\n",
      "794            0               1\n",
      "679            0               1\n"
     ]
    }
   ],
   "source": [
    "df_compare=pd.DataFrame(\n",
    "    {\n",
    "        'Actual Data': y_test,\n",
    "        'Predicted Data' : y_pred.flatten()\n",
    "    }\n",
    ")\n",
    "print(df_compare.head(20))"
   ]
  }
 ],
 "metadata": {
  "kernelspec": {
   "display_name": "Python (tf-env)",
   "language": "python",
   "name": "tf-env"
  },
  "language_info": {
   "codemirror_mode": {
    "name": "ipython",
    "version": 3
   },
   "file_extension": ".py",
   "mimetype": "text/x-python",
   "name": "python",
   "nbconvert_exporter": "python",
   "pygments_lexer": "ipython3",
   "version": "3.10.0"
  }
 },
 "nbformat": 4,
 "nbformat_minor": 5
}
